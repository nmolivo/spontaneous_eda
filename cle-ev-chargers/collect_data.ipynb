{
 "cells": [
  {
   "cell_type": "code",
   "execution_count": 60,
   "metadata": {},
   "outputs": [],
   "source": [
    "import json\n",
    "import os\n",
    "import time\n",
    "import requests\n",
    "\n",
    "from operator import itemgetter\n"
   ]
  },
  {
   "cell_type": "markdown",
   "metadata": {},
   "source": [
    "# Let's overlay EV charging stations, their reviews, and relevant traffic flows"
   ]
  },
  {
   "cell_type": "markdown",
   "metadata": {},
   "source": [
    "### Google maps API"
   ]
  },
  {
   "cell_type": "code",
   "execution_count": 65,
   "metadata": {},
   "outputs": [],
   "source": [
    "def create_reviews_data(api_key, place_json):\n",
    "    place_id = place_json.get(\"place_id\")\n",
    "    if place_id:\n",
    "        rating_and_reviews_url = f\"https://maps.googleapis.com/maps/api/place/details/json?placeid={place_id}&key={api_key}\"\n",
    "        response = requests.get(rating_and_reviews_url)\n",
    "        reviews = response.json().get(\"result\").get(\"reviews\")\n",
    "        if reviews:\n",
    "            anon_reviews = [{k: review[k] for k in [\"rating\", \"relative_time_description\", \"text\", \"time\"]} for review in reviews]\n",
    "            anon_reviews.sort(key=itemgetter(\"time\"), reverse=True)\n",
    "            place_json[\"reviews\"] = anon_reviews\n",
    "    return place_json\n",
    "\n"
   ]
  },
  {
   "cell_type": "code",
   "execution_count": 30,
   "metadata": {},
   "outputs": [],
   "source": [
    "def get_coordinates_of_evs(api_key, coordinate, radius, keywords):\n",
    "    url = f\"https://maps.googleapis.com/maps/api/place/nearbysearch/json?location={coordinate}&radius={radius}&keyword={keywords}&key={api_key}\"\n",
    "    final_data = []\n",
    "    while True:\n",
    "        response = requests.get(url)\n",
    "        jj = response.json()\n",
    "        results = jj.get(\"results\")\n",
    "        for result in results:          \n",
    "            name = result['name']          \n",
    "            place_id = result ['place_id']          \n",
    "            lat = result['geometry']['location']['lat']          \n",
    "            lng = result['geometry']['location']['lng']             \n",
    "            rating = result['rating']          \n",
    "            types = result['types']          \n",
    "            vicinity = result['vicinity']          \n",
    "            business_status = result['business_status']            \n",
    "            data = {\"name\": name, \"place_id\": place_id, \"lat\": lat, \"long\": lng, \"rating\": rating, \"types\": types, \"vicinity\": vicinity, \"business_status\": business_status}          \n",
    "            final_data.append(data)           \n",
    "\n",
    "            time.sleep(1)\n",
    "\n",
    "        if \"next_page_token\" not in jj:\n",
    "            break\n",
    "        else:\n",
    "            url = f\"https://maps.googleapis.com/maps/api/place/nearbysearch/json?pagetoken={jj['next_page_token']}&key={api_key}\" \n",
    "    return final_data\n",
    "        \n",
    "\n"
   ]
  },
  {
   "cell_type": "code",
   "execution_count": 10,
   "metadata": {},
   "outputs": [],
   "source": [
    "cle_radius = 160934/2\n",
    "coordinate = \"41.4870125,-81.7216216\"\n",
    "keyword=\"ev charger\"\n",
    "#api_key = os.getenv(\"MAPS_API_KEY\")"
   ]
  },
  {
   "cell_type": "code",
   "execution_count": 44,
   "metadata": {},
   "outputs": [],
   "source": [
    "cle_ev_chargers = get_coordinates_of_evs(api_key, coordinate, cle_radius, keyword)"
   ]
  },
  {
   "cell_type": "code",
   "execution_count": 66,
   "metadata": {},
   "outputs": [],
   "source": [
    "cle_ev_charger_reviewed = []\n",
    "for charger_place in cle_ev_chargers:\n",
    "    reviewed = create_reviews_data(api_key, charger_place)\n",
    "    cle_ev_charger_reviewed.append(reviewed)\n",
    "   \n"
   ]
  },
  {
   "cell_type": "code",
   "execution_count": 68,
   "metadata": {},
   "outputs": [
    {
     "data": {
      "text/plain": [
       "60"
      ]
     },
     "execution_count": 68,
     "metadata": {},
     "output_type": "execute_result"
    }
   ],
   "source": [
    "len(cle_ev_charger_reviewed)"
   ]
  },
  {
   "cell_type": "markdown",
   "metadata": {},
   "source": [
    "# Story Map (EDA)"
   ]
  },
  {
   "cell_type": "code",
   "execution_count": 79,
   "metadata": {},
   "outputs": [],
   "source": [
    "import gmaps"
   ]
  },
  {
   "cell_type": "code",
   "execution_count": 80,
   "metadata": {},
   "outputs": [],
   "source": [
    "gmaps.configure(api_key=api_key)"
   ]
  },
  {
   "cell_type": "code",
   "execution_count": 95,
   "metadata": {},
   "outputs": [],
   "source": [
    "fig = gmaps.figure(map_type=\"ROADMAP\", center=(41.4870125,-81.7216216), zoom_level=13)"
   ]
  },
  {
   "cell_type": "code",
   "execution_count": 110,
   "metadata": {},
   "outputs": [],
   "source": [
    "import collections\n",
    "collections.Iterable = collections.abc.Iterable\n",
    "collections.Sequence = collections.abc.Sequence"
   ]
  },
  {
   "cell_type": "code",
   "execution_count": 126,
   "metadata": {},
   "outputs": [],
   "source": [
    "locations = [(x[\"lat\"], x[\"long\"]) for x in cle_ev_charger_reviewed]\n",
    "info_box_template = \"\"\"<dl><dt>Review</dt><dd>{rating}</dd><dt>Text</dt><dd>{text}</dd></d\"\"\"\n",
    "ev_info = info_box_template.format(**review) for review in reviews \n",
    "ev_layer= gmaps.symbol_layer(locations, info_box_content=[json.dumps(x.get(\"reviews\", []), indent=4) for x in cle_ev_charger_reviewed])\n",
    "fig.add_layer(ev_layer)\n"
   ]
  },
  {
   "cell_type": "code",
   "execution_count": 127,
   "metadata": {},
   "outputs": [],
   "source": [
    "traffic_layer= gmaps.traffic_layer()\n",
    "fig.add_layer(traffic_layer)\n"
   ]
  },
  {
   "cell_type": "code",
   "execution_count": 128,
   "metadata": {},
   "outputs": [
    {
     "data": {
      "application/vnd.jupyter.widget-view+json": {
       "model_id": "8d2911a11f6444f5bd31e604631b5082",
       "version_major": 2,
       "version_minor": 0
      },
      "text/plain": [
       "Figure(layout=FigureLayout(height='420px'))"
      ]
     },
     "execution_count": 128,
     "metadata": {},
     "output_type": "execute_result"
    }
   ],
   "source": [
    "fig"
   ]
  },
  {
   "cell_type": "code",
   "execution_count": null,
   "metadata": {},
   "outputs": [],
   "source": []
  }
 ],
 "metadata": {
  "kernelspec": {
   "display_name": ".venv",
   "language": "python",
   "name": "python3"
  },
  "language_info": {
   "codemirror_mode": {
    "name": "ipython",
    "version": 3
   },
   "file_extension": ".py",
   "mimetype": "text/x-python",
   "name": "python",
   "nbconvert_exporter": "python",
   "pygments_lexer": "ipython3",
   "version": "3.10.0"
  },
  "orig_nbformat": 4,
  "vscode": {
   "interpreter": {
    "hash": "ad5e1a97be747a20b33acf438d24a9f6d92a089ecbd53381ffea5c37193312dd"
   }
  }
 },
 "nbformat": 4,
 "nbformat_minor": 2
}
